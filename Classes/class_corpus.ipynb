{
 "cells": [
  {
   "cell_type": "markdown",
   "metadata": {},
   "source": [
    "%s - строчка\n",
    "%d - число\n",
    "path\tauthor\tsex\tbirthday\theader\tcreated\tsphere\tgenre_fi\ttype\ttopic\tchronotop\tstyle\taudience_age\taudience_level\taudience_size\tsource\tpublication\tpublisher\tpubl_year\tmedium\tcountry\tregion\tlanguage"
   ]
  },
  {
   "cell_type": "code",
   "execution_count": 1,
   "metadata": {},
   "outputs": [
    {
     "name": "stdout",
     "output_type": "stream",
     "text": [
      "тут ссылка\tПетя\t\t\tНазвание статьи\t26.09.2016\tпублицистика\t\t\tобразование\t\tнейтральный\tн-возраст\tн-уровень\tрайонная(если районная)\turl\tназвание газеты\t\t2016\tгазета\tРоссия\tкакой-то регион\tru\n"
     ]
    }
   ],
   "source": [
    "row = '%s\\t%s\\t\\t\\t%s\\t%s\\tпублицистика\\t\\t\\t%s\\t\\tнейтральный\\tн-возраст\\tн-уровень\\tрайонная(если районная)\\t%s\\tназвание газеты\\t\\t%s\\tгазета\\tРоссия\\tкакой-то регион\\tru'\n",
    "\n",
    "print(row % ('тут ссылка', 'Петя', 'Название статьи', '26.09.2016', 'образование', 'url', '2016'))"
   ]
  },
  {
   "cell_type": "code",
   "execution_count": 7,
   "metadata": {},
   "outputs": [
    {
     "name": "stdout",
     "output_type": "stream",
     "text": [
      "Сегодняшнее число -  20\n",
      "Python has 2 quote types.\n",
      "Russia -> (Moscow, 147000000)\n",
      "Germany -> (Berlin, 1500000001)\n"
     ]
    }
   ],
   "source": [
    "row_1 = '%s число -  %d'\n",
    "print(row_1 % ('Сегодняшнее', 20))\n",
    "\n",
    " #Можно форматировать и вставлять значения из словаря:\n",
    "print ('%(language)s has %(number)d quote types.' % {\"language\": \"Python\", \"number\": 2})\n",
    "\n",
    "d = {\"country\": \"Russia\", \"capital\":\"Moscow\", \"population\": 147000000}\n",
    "d1 = {\"country\": \"Germany\", \"capital\":\"Berlin\", \"population\": 150000000}\n",
    "\n",
    "print('%(country)s -> (%(capital)s, %(population)d)' % d)\n",
    "print('%(country)s -> (%(capital)s, %(population)d1)' % d1)"
   ]
  },
  {
   "cell_type": "code",
   "execution_count": 15,
   "metadata": {},
   "outputs": [
    {
     "data": {
      "text/plain": [
       "0"
      ]
     },
     "execution_count": 15,
     "metadata": {},
     "output_type": "execute_result"
    }
   ],
   "source": [
    "import os\n",
    "os.system(\"C:\\mystem.exe -cgid --format xml C:\\harryPotter.txt C:\\harryPotterNew.xml\")"
   ]
  },
  {
   "cell_type": "code",
   "execution_count": 22,
   "metadata": {},
   "outputs": [
    {
     "data": {
      "text/plain": [
       "0"
      ]
     },
     "execution_count": 22,
     "metadata": {},
     "output_type": "execute_result"
    }
   ],
   "source": [
    "import os\n",
    "\n",
    "if not os.path.exists('newspaper/plain/2018/10/'):\n",
    "    os.makedirs('newspaper/plain/2018/10')\n",
    "    \n",
    "if not os.path.exists('newspaper/mystem-plain/2018/10/'):\n",
    "    os.makedirs('newspaper/mystem-plain/2018/10')\n",
    "    \n",
    "if not os.path.exists('newspaper/mystem-xml/2018/10/'):\n",
    "    os.makedirs('newspaper/mystem-xml/2018/10')\n",
    "\n",
    "f = open(\"newspaper/plain/2018/10/article1.txt\", \"w\", encoding=\"utf-8\")\n",
    "f.write('«А́нна Каре́нина» (1873—1877; журнальная публикация 1875—1877; первое книжное издание 1878) — роман Льва Толстого о трагической любви замужней дамы Анны Карениной и блестящего офицера Вронского на фоне счастливой семейной жизни дворян Константина Лёвина[К 1] и Кити Щербацкой.')\n",
    "f.close()\n",
    "\n",
    "os.system(\"C:\\mystem.exe -cgid newspaper/plain/2018/10/article1.txt newspaper/mystem-plain/2018/10/article1.txt\")\n",
    "os.system(\"C:\\mystem.exe -cgid --format xml newspaper/plain/2018/10/article1.txt newspaper/mystem-xml/2018/10/article1.xml\")"
   ]
  },
  {
   "cell_type": "code",
   "execution_count": 23,
   "metadata": {},
   "outputs": [],
   "source": [
    "import urllib.request\n",
    "url = 'https://www.pravda-news.ru/news/kultura/v-penze-tragifars-vassa-i-drugie-stal-vtoroy-premeroy-v-dramteatre/'  # адрес страницы, которую мы хотим скачать\n",
    "user_agent = 'Mozilla/5.0 (Windows NT 6.1; Win64; x64)'  # хотим притворяться браузером\n",
    "\n",
    "req = urllib.request.Request(url, headers={'User-Agent':user_agent})  \n",
    "# добавили в запрос информацию о том, что мы браузер Мозилла\n",
    "\n",
    "with urllib.request.urlopen(req) as response:\n",
    "   html = response.read().decode('utf-8')"
   ]
  },
  {
   "cell_type": "code",
   "execution_count": 28,
   "metadata": {},
   "outputs": [
    {
     "name": "stdout",
     "output_type": "stream",
     "text": [
      "В Пензе драмтеатр представил премьеру трагифарса «Васса и другие»\n",
      "В Пензе драмтеатр представил премьеру трагифарса «Васса и другие»\n"
     ]
    }
   ],
   "source": [
    "import re\n",
    "regPostTitle = re.compile('<h1>(.*?)</h1>', flags= re.DOTALL)\n",
    "titles = regPostTitle.findall(html)\n",
    "for t in titles:\n",
    "    print(t)\n",
    "\n",
    "new_titles = []\n",
    "regTag = re.compile('<.*?>', re.DOTALL)\n",
    "regSpace = re.compile('\\s{2,}', re.DOTALL)\n",
    "for t in titles:\n",
    "    clean_t = regSpace.sub(\"\", t)\n",
    "    clean_t = regTag.sub(\"\", clean_t)\n",
    "    new_titles.append(clean_t)\n",
    "for t in new_titles:\n",
    "    print(t)"
   ]
  },
  {
   "cell_type": "code",
   "execution_count": 40,
   "metadata": {},
   "outputs": [
    {
     "name": "stdout",
     "output_type": "stream",
     "text": [
      "[' <a href=\"/news/?author=Галина ИСАЙЧЕВА\" target=\"_blank\">Галина ИСАЙЧЕВА</a>']\n",
      " Галина ИСАЙЧЕВА\n"
     ]
    }
   ],
   "source": [
    "regAuthor = re.compile('<p>Автор:(.*?)</p>', flags= re.DOTALL)\n",
    "author = regAuthor.findall(html)\n",
    "print(author)\n",
    "new_author = []\n",
    "regTag1 = re.compile('<.*?>', re.DOTALL)\n",
    "regSpace1 = re.compile('\\s{2,}', re.DOTALL)\n",
    "for a in author:\n",
    "    clean_a = regSpace1.sub(\"\", a)\n",
    "    clean_a = regTag1.sub(\"\", clean_a)\n",
    "    print(clean_a)"
   ]
  },
  {
   "cell_type": "code",
   "execution_count": 48,
   "metadata": {},
   "outputs": [
    {
     "name": "stdout",
     "output_type": "stream",
     "text": [
      "18 Октября 2018, 09:45\n"
     ]
    },
    {
     "data": {
      "text/plain": [
       "'new_time = []\\nregTag2 = re.compile(\\'<.*?>\\', re.DOTALL)\\nregSpace2 = re.compile(\\'\\\\s{2,}\\', re.DOTALL)\\nfor ti in time:\\n    clean_ti = regSpace2.sub(\"\", ti)\\n    clean_ti = regTag2.sub(\"\", clean_ti)\\n    new_time.append(clean_ti)\\nfor ti in new_time:\\n    print(ti)\\n'"
      ]
     },
     "execution_count": 48,
     "metadata": {},
     "output_type": "execute_result"
    }
   ],
   "source": [
    "regTime = re.compile('<time class=\"text-danger\">(.*?)</time>\\n\\t<h1>', flags= re.DOTALL)\n",
    "time = regTime.findall(html)\n",
    "for t in time:\n",
    "    print(t)\n",
    "\"\"\"new_time = []\n",
    "regTag2 = re.compile('<.*?>', re.DOTALL)\n",
    "regSpace2 = re.compile('\\s{2,}', re.DOTALL)\n",
    "for ti in time:\n",
    "    clean_ti = regSpace2.sub(\"\", ti)\n",
    "    clean_ti = regTag2.sub(\"\", clean_ti)\n",
    "    new_time.append(clean_ti)\n",
    "for ti in new_time:\n",
    "    print(ti)\n",
    "\"\"\"\n",
    "#\t<time class=\"text-danger\">18 Октября 2018, 09:45</time>"
   ]
  },
  {
   "cell_type": "code",
   "execution_count": null,
   "metadata": {},
   "outputs": [],
   "source": []
  }
 ],
 "metadata": {
  "kernelspec": {
   "display_name": "Python 3",
   "language": "python",
   "name": "python3"
  },
  "language_info": {
   "codemirror_mode": {
    "name": "ipython",
    "version": 3
   },
   "file_extension": ".py",
   "mimetype": "text/x-python",
   "name": "python",
   "nbconvert_exporter": "python",
   "pygments_lexer": "ipython3",
   "version": "3.6.4"
  }
 },
 "nbformat": 4,
 "nbformat_minor": 2
}
