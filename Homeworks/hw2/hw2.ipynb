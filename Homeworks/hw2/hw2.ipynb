{
 "cells": [
  {
   "cell_type": "markdown",
   "metadata": {},
   "source": [
    "#### Я сначала не подозревала, что гитхаб выдает по 30 репозиториев и фолловеров. Когда поняла, узнала о paging и попыталась это решить, меня забанил гитхаб и проверить, правильно ли работают функции я не смогла. А ещё токены..."
   ]
  },
  {
   "cell_type": "code",
   "execution_count": 37,
   "metadata": {},
   "outputs": [],
   "source": [
    "import json\n",
    "import urllib.request\n",
    "\n",
    "users = ['elmiram', 'maryszmary', 'lizaku', 'nevmenandr', 'ancatmara', 'roctbb', 'akutuzov', 'agricolamz', 'lehkost', 'kylepjohnson', 'mikekestemont', 'demidovakatya', 'shwars', 'jeltef', 'timgraham', 'arogozhnikov', 'jasny', 'bcongdon', 'whyisjake', 'gvanrossum']"
   ]
  },
  {
   "cell_type": "markdown",
   "metadata": {},
   "source": [
    "#### Напишем функцию для выбора пользователя (задания 1-2)"
   ]
  },
  {
   "cell_type": "code",
   "execution_count": 38,
   "metadata": {},
   "outputs": [],
   "source": [
    "def choose_user(users):\n",
    "    for i in users:\n",
    "        print(i)\n",
    "    while 1:\n",
    "        user = input('Введите имя пользователя из списка ').lower()\n",
    "        if user in users:\n",
    "            print('Мне выбрали пользователя {}'.format(user))\n",
    "            break\n",
    "        else:\n",
    "            print('Что-то пошло не так, попробуйте ещё раз.')\n",
    "    return user"
   ]
  },
  {
   "cell_type": "markdown",
   "metadata": {},
   "source": [
    "#### Напишем функцию для сбора информации о репозиториях пользователя"
   ]
  },
  {
   "cell_type": "code",
   "execution_count": 39,
   "metadata": {},
   "outputs": [],
   "source": [
    "def requests(user, given_url):\n",
    "    # Здесь должен быть чей-то токен\n",
    "    token = ''\n",
    "    url = given_url.format(user, token)\n",
    "    #url = given_url.format(user)\n",
    "    response = urllib.request.urlopen(url) \n",
    "    text = response.read().decode('utf-8')\n",
    "    data = json.loads(text)\n",
    "    return data"
   ]
  },
  {
   "cell_type": "markdown",
   "metadata": {},
   "source": [
    "#### Фнукция, которая печатает список репозиториев пользователя:"
   ]
  },
  {
   "cell_type": "code",
   "execution_count": 40,
   "metadata": {},
   "outputs": [],
   "source": [
    "def rep_list(user, url_rep):\n",
    "    given_url = url_rep\n",
    "    user_data = requests(user, given_url) \n",
    "    print('\\nВот список его репозиториев:')\n",
    "    i = 0\n",
    "    for rep in user_data:\n",
    "        i += 1\n",
    "        name = (rep['name'])\n",
    "        description = (rep['description'])\n",
    "        print('{}. {}: {}'.format(i, name, description))\n",
    "    return user_data"
   ]
  },
  {
   "cell_type": "markdown",
   "metadata": {},
   "source": [
    "#### Унивесральная функция со словарем, которую мы будем использовать несколько раз в других заданиях"
   ]
  },
  {
   "cell_type": "code",
   "execution_count": 41,
   "metadata": {},
   "outputs": [],
   "source": [
    "def universal_dict(target_info, the_dict):\n",
    "    if target_info in the_dict:\n",
    "        the_dict[target_info] += 1\n",
    "    else:\n",
    "        the_dict[target_info] = 1\n",
    "    return the_dict"
   ]
  },
  {
   "cell_type": "markdown",
   "metadata": {},
   "source": [
    "#### Задание 2: Список языков пользователя и количество репозиториев, в которых они используются."
   ]
  },
  {
   "cell_type": "code",
   "execution_count": 42,
   "metadata": {
    "scrolled": true
   },
   "outputs": [],
   "source": [
    "def rep_lang(user, data):\n",
    "    lang_dict = {}\n",
    "    for rep in data:\n",
    "        lang = (rep['language'])\n",
    "        universal_dict(lang, lang_dict)\n",
    "    lang_list = [i for i in lang_dict.keys()]\n",
    "    print('\\nПользователь {} пишет на: '.format(user))\n",
    "    for element in lang_list:\n",
    "        if lang_list.index(element) < len(lang_list)-1:\n",
    "            print(str(element) + '({} реп.)'.format(lang_dict[element]), end=\", \")\n",
    "        else:\n",
    "          print(str(element) + '({} реп.)'.format(lang_dict[element],))\n",
    "    return lang_dict          "
   ]
  },
  {
   "cell_type": "markdown",
   "metadata": {},
   "source": [
    "#### В момент написания кода я не понимала, что гитхаб дефолтно даёт информацию только о 30 репозиториях/фолловерах, я думала, что пользователей с самым большим числом репозиториев и фолловеров действительно просто несколько -- поэтому подумала, что можно сделать отедльную функцию для читабельного вывода их usernames."
   ]
  },
  {
   "cell_type": "code",
   "execution_count": 43,
   "metadata": {},
   "outputs": [],
   "source": [
    "def print_max(target_dict, max_value):\n",
    "    line = ''\n",
    "    for key in target_dict:\n",
    "        if target_dict[key] == max_value:\n",
    "            line += key + ', '\n",
    "    print(line[:-2] + \".\")"
   ]
  },
  {
   "cell_type": "markdown",
   "metadata": {},
   "source": [
    "#### Задание 3: у кого в списке больше всего репозиториев."
   ]
  },
  {
   "cell_type": "code",
   "execution_count": 44,
   "metadata": {},
   "outputs": [],
   "source": [
    "def rep_num(users, url_rep):\n",
    "    num = {}\n",
    "    for user in users:\n",
    "        given_url = url_rep\n",
    "        user_data = requests(user, given_url)\n",
    "        num[user] = len(user_data)\n",
    "    max_num = max(num.values())\n",
    "    print('\\nБольше всего репозиториев у', end=\" \")\n",
    "    print_max(num, max_num)"
   ]
  },
  {
   "cell_type": "markdown",
   "metadata": {},
   "source": [
    "#### Задание 4: узнать, какой язык самый популярный среди пользователей списка."
   ]
  },
  {
   "cell_type": "code",
   "execution_count": 45,
   "metadata": {},
   "outputs": [],
   "source": [
    "def lang_overall(users, url_fol):\n",
    "    lang_all = {}\n",
    "    for user in users:\n",
    "        user_data = requests(user, url_fol)\n",
    "        for rep in user_data:\n",
    "            lang = (rep['language'])\n",
    "            universal_dict(lang, lang_all)\n",
    "    max_lang = max(lang_all.values())\n",
    "    for key in lang_all:\n",
    "        if lang_all[key] == max_lang:\n",
    "            print('\\nСамый популярный язык среди всех пользователей -- {}.'.format(key))"
   ]
  },
  {
   "cell_type": "markdown",
   "metadata": {},
   "source": [
    "#### Задание 5: узнать, у кого из пользователей больше всего фолловеров."
   ]
  },
  {
   "cell_type": "code",
   "execution_count": 46,
   "metadata": {},
   "outputs": [],
   "source": [
    "def max_followers(users, url_fol):\n",
    "    followers = {}\n",
    "    for user in users:\n",
    "        user_data = requests(user, url_fol)\n",
    "        followers[user] = len(user_data)\n",
    "    max_fol = max(followers.values())\n",
    "    print('\\nБольше всего фолловеров у', end=\" \")\n",
    "    print_max(followers, max_fol)"
   ]
  },
  {
   "cell_type": "code",
   "execution_count": 47,
   "metadata": {},
   "outputs": [],
   "source": [
    "def main():\n",
    "    my_user = choose_user(users) # выбрать пользователя\n",
    "    url_rep = 'https://api.github.com/users/{}/repos?access_token={}'\n",
    "    #url_rep = 'https://api.github.com/users/{}/repos?page=90&per_page=100'\n",
    "    my_data = rep_list(my_user, url_rep) # напечатать список его репозиториев с описанием\n",
    "    rep_lang(my_user, my_data) # напечатать список языков и количество репозиториев\n",
    "    rep_num(users, url_rep) # пользователь, у которого больше всего репозиториев\n",
    "    lang_overall(users, url_rep) # самый популярный язык\n",
    "    url_fol = 'https://api.github.com/users/{}/followers?access_token={}'\n",
    "    #url_fol = 'https://api.github.com/users/{}/followers?page=90&per_page=100'\n",
    "    max_followers(users, url_fol) # больше всего фолловеров"
   ]
  },
  {
   "cell_type": "code",
   "execution_count": 48,
   "metadata": {
    "scrolled": true
   },
   "outputs": [
    {
     "name": "stdout",
     "output_type": "stream",
     "text": [
      "elmiram\n",
      "maryszmary\n",
      "lizaku\n",
      "nevmenandr\n",
      "ancatmara\n",
      "roctbb\n",
      "akutuzov\n",
      "agricolamz\n",
      "lehkost\n",
      "kylepjohnson\n",
      "mikekestemont\n",
      "demidovakatya\n",
      "shwars\n",
      "jeltef\n",
      "timgraham\n",
      "arogozhnikov\n",
      "jasny\n",
      "bcongdon\n",
      "whyisjake\n",
      "gvanrossum\n",
      "Введите имя пользователя из списка lizaku\n",
      "Мне выбрали пользователя lizaku\n",
      "\n",
      "Вот список его репозиториев:\n",
      "1. alignment: Repository for storing the project \"Automatic alignment of dictionaries for closely related languages\"\n",
      "2. CL_spellchecker: The spellchecker project for the CL course\n",
      "3. disamb_RNC: Disambiguation for Russian\n",
      "4. dsm_genres: Visualizer for genres based on neural network language models\n",
      "5. frame-parsing: Semantic role labeling for Russian\n",
      "6. Geo_entities: Extracting geo entities\n",
      "7. MorphoAnn: Morphological annotation for REALEC\n",
      "8. opinion2015: Mail.Ru project on Opinion Mining in news\n",
      "9. Programming-and-computer-instruments: Репоззиторий для курса \"Программирование и компьютерные инструменты лингвистических исследований\" в 2016-2017 уч. году.\n",
      "10. programming_hw: repo for hosting my homework assignments on programming, first semester of 2015-2016\n",
      "11. realec-exercises: Automatic creation of exercises for REALEC\n",
      "12. realec-search: Search for the REALEC corpus\n",
      "13. seq2seq: Kursovaya\n",
      "14. seq2seq_chatbot: Sequence-to-Sequence chatbot using tensorflow\n",
      "15. synonyms: Для НУГа про синонимы\n",
      "16. varia: None\n",
      "17. verbal-aspect: Working files for my thesis\n",
      "\n",
      "Пользователь lizaku пишет на: \n",
      "Python(12 реп.), HTML(2 реп.), Jupyter Notebook(2 реп.), None(1 реп.)\n",
      "\n",
      "Больше всего репозиториев у elmiram, roctbb, agricolamz, kylepjohnson, mikekestemont, demidovakatya, shwars, jeltef, timgraham, jasny, bcongdon, whyisjake.\n",
      "\n",
      "Самый популярный язык среди всех пользователей -- Python.\n",
      "\n",
      "Больше всего фолловеров у lizaku, ancatmara, roctbb, agricolamz, lehkost, kylepjohnson, mikekestemont, demidovakatya, shwars, jeltef, timgraham, arogozhnikov, jasny, bcongdon, whyisjake, gvanrossum.\n"
     ]
    }
   ],
   "source": [
    "if __name__ == \"__main__\":\n",
    "    main()"
   ]
  }
 ],
 "metadata": {
  "kernelspec": {
   "display_name": "Python 3",
   "language": "python",
   "name": "python3"
  },
  "language_info": {
   "codemirror_mode": {
    "name": "ipython",
    "version": 3
   },
   "file_extension": ".py",
   "mimetype": "text/x-python",
   "name": "python",
   "nbconvert_exporter": "python",
   "pygments_lexer": "ipython3",
   "version": "3.6.5"
  }
 },
 "nbformat": 4,
 "nbformat_minor": 2
}
